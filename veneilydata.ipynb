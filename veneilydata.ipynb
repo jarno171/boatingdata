{
 "cells": [
  {
   "cell_type": "code",
   "execution_count": 1,
   "id": "5ab706c2",
   "metadata": {},
   "outputs": [],
   "source": [
    "# Testiohjelma\n",
    "#\n",
    "# haetaan avointa merikarttadataa läpällä\n",
    "\n",
    "from owslib.wfs import WebFeatureService"
   ]
  },
  {
   "cell_type": "code",
   "execution_count": 2,
   "id": "88aa51cc",
   "metadata": {},
   "outputs": [
    {
     "data": {
      "text/plain": [
       "'Traficom WFS'"
      ]
     },
     "execution_count": 2,
     "metadata": {},
     "output_type": "execute_result"
    }
   ],
   "source": [
    "wfs11 = WebFeatureService(url='https://julkinen.traficom.fi/inspirepalvelu/avoin/wfs', version='2.0.0')\n",
    "wfs11.identification.title"
   ]
  },
  {
   "cell_type": "code",
   "execution_count": 3,
   "id": "724c4cd1",
   "metadata": {},
   "outputs": [
    {
     "data": {
      "text/plain": [
       "['GetCapabilities',\n",
       " 'DescribeFeatureType',\n",
       " 'GetFeature',\n",
       " 'GetPropertyValue',\n",
       " 'ListStoredQueries',\n",
       " 'DescribeStoredQueries',\n",
       " 'CreateStoredQuery',\n",
       " 'DropStoredQuery',\n",
       " 'ImplementsBasicWFS',\n",
       " 'ImplementsTransactionalWFS',\n",
       " 'ImplementsLockingWFS',\n",
       " 'KVPEncoding',\n",
       " 'XMLEncoding',\n",
       " 'SOAPEncoding',\n",
       " 'ImplementsInheritance',\n",
       " 'ImplementsRemoteResolve',\n",
       " 'ImplementsResultPaging',\n",
       " 'ImplementsStandardJoins',\n",
       " 'ImplementsSpatialJoins',\n",
       " 'ImplementsTemporalJoins',\n",
       " 'ImplementsFeatureVersioning',\n",
       " 'ManageStoredQueries',\n",
       " 'PagingIsTransactionSafe',\n",
       " 'QueryExpressions']"
      ]
     },
     "execution_count": 3,
     "metadata": {},
     "output_type": "execute_result"
    }
   ],
   "source": [
    "[operation.name for operation in wfs11.operations]"
   ]
  },
  {
   "cell_type": "code",
   "execution_count": 4,
   "id": "1f7ff8c9",
   "metadata": {},
   "outputs": [
    {
     "data": {
      "text/plain": [
       "['avoin:Ahti_Limit_L',\n",
       " 'avoin:Berths_L',\n",
       " 'avoin:CableArea_A',\n",
       " 'avoin:CableOverhead_L',\n",
       " 'avoin:CableSubmarine_L',\n",
       " 'avoin:Dam_A',\n",
       " 'avoin:Dam_L',\n",
       " 'avoin:ExclusiveEconomicZone_A',\n",
       " 'avoin:ExclusiveEconomicZone_L',\n",
       " 'avoin:Gate_L',\n",
       " 'avoin:PilotBoardingPlace_P',\n",
       " 'avoin:PipelineOverhead_L',\n",
       " 'avoin:PipelineSubmarineOnLand_L',\n",
       " 'avoin:Pontoon_A',\n",
       " 'avoin:Pontoon_L',\n",
       " 'avoin:ShorelineConstruction_L',\n",
       " 'avoin:ShorelineConstruction_P',\n",
       " 'avoin:StraightTerritorialSeaBaseline_L',\n",
       " 'avoin:TerritorialSeaArea_A',\n",
       " 'avoin:TerritorialSeaArea_L']"
      ]
     },
     "execution_count": 4,
     "metadata": {},
     "output_type": "execute_result"
    }
   ],
   "source": [
    "list(wfs11.contents)"
   ]
  },
  {
   "cell_type": "code",
   "execution_count": 5,
   "id": "7130bc0e",
   "metadata": {},
   "outputs": [],
   "source": [
    "from owslib.wms import WebMapService"
   ]
  },
  {
   "cell_type": "code",
   "execution_count": 6,
   "id": "0d7fbd18",
   "metadata": {},
   "outputs": [],
   "source": [
    "wms = WebMapService('https://julkinen.traficom.fi/inspirepalvelu/avoin/wms', version='1.3.0')"
   ]
  },
  {
   "cell_type": "code",
   "execution_count": 11,
   "id": "33c6b1ff",
   "metadata": {},
   "outputs": [
    {
     "data": {
      "text/plain": [
       "'WMS'"
      ]
     },
     "execution_count": 11,
     "metadata": {},
     "output_type": "execute_result"
    }
   ],
   "source": [
    "wms.identification.type"
   ]
  },
  {
   "cell_type": "code",
   "execution_count": 8,
   "id": "e79b490a",
   "metadata": {},
   "outputs": [
    {
     "data": {
      "text/plain": [
       "'1.3.0'"
      ]
     },
     "execution_count": 8,
     "metadata": {},
     "output_type": "execute_result"
    }
   ],
   "source": [
    "wms.identification.version"
   ]
  },
  {
   "cell_type": "code",
   "execution_count": 9,
   "id": "947858d1",
   "metadata": {},
   "outputs": [
    {
     "data": {
      "text/plain": [
       "'Traficom WMS'"
      ]
     },
     "execution_count": 9,
     "metadata": {},
     "output_type": "execute_result"
    }
   ],
   "source": [
    "wms.identification.title"
   ]
  },
  {
   "cell_type": "code",
   "execution_count": 10,
   "id": "949bb1c4",
   "metadata": {},
   "outputs": [],
   "source": [
    "wms.identification.abstract"
   ]
  },
  {
   "cell_type": "code",
   "execution_count": 12,
   "id": "ef6ef579",
   "metadata": {},
   "outputs": [
    {
     "data": {
      "text/plain": [
       "['Ahti_Limit_L',\n",
       " 'Berths_L',\n",
       " 'CableArea_A',\n",
       " 'CableOverhead_L',\n",
       " 'CableSubmarine_L',\n",
       " 'Dam_A',\n",
       " 'Dam_L',\n",
       " 'ExclusiveEconomicZone_A',\n",
       " 'ExclusiveEconomicZone_L',\n",
       " 'Gate_L',\n",
       " 'PilotBoardingPlace_P',\n",
       " 'PipelineOverhead_L',\n",
       " 'PipelineSubmarineOnLand_L',\n",
       " 'Pontoon_A',\n",
       " 'Pontoon_L',\n",
       " 'ShorelineConstruction_L',\n",
       " 'ShorelineConstruction_P',\n",
       " 'StraightTerritorialSeaBaseline_L',\n",
       " 'TerritorialSeaArea_A',\n",
       " 'TerritorialSeaArea_L']"
      ]
     },
     "execution_count": 12,
     "metadata": {},
     "output_type": "execute_result"
    }
   ],
   "source": [
    "list(wms.contents)"
   ]
  },
  {
   "cell_type": "code",
   "execution_count": 21,
   "id": "3647d448",
   "metadata": {},
   "outputs": [],
   "source": [
    " boundingBox = wms['TerritorialSeaArea_A'].boundingBoxWGS84"
   ]
  },
  {
   "cell_type": "code",
   "execution_count": 15,
   "id": "394be902",
   "metadata": {},
   "outputs": [
    {
     "data": {
      "text/plain": [
       "['EPSG:3035',\n",
       " 'EPSG:3067',\n",
       " 'EPSG:3130',\n",
       " 'EPSG:3883',\n",
       " 'EPSG:3046',\n",
       " 'EPSG:3875',\n",
       " 'EPSG:3129',\n",
       " 'EPSG:3395',\n",
       " 'EPSG:2394',\n",
       " 'EPSG:3882',\n",
       " 'EPSG:3387',\n",
       " 'EPSG:3128',\n",
       " 'EPSG:3047',\n",
       " 'EPSG:4937',\n",
       " 'EPSG:3857',\n",
       " 'EPSG:3874',\n",
       " 'CRS:84',\n",
       " 'EPSG:3878',\n",
       " 'EPSG:3876',\n",
       " 'EPSG:3885',\n",
       " 'EPSG:2391',\n",
       " 'EPSG:3048',\n",
       " 'EPSG:3034',\n",
       " 'EPSG:3135',\n",
       " 'EPSG:3386',\n",
       " 'EPSG:3131',\n",
       " 'EPSG:3134',\n",
       " 'EPSG:4123',\n",
       " 'EPSG:4326',\n",
       " 'EPSG:3132',\n",
       " 'EPSG:4258',\n",
       " 'EPSG:3873',\n",
       " 'EPSG:3879',\n",
       " 'EPSG:3881',\n",
       " 'EPSG:3126',\n",
       " 'EPSG:2393',\n",
       " 'EPSG:3133',\n",
       " 'EPSG:2392',\n",
       " 'EPSG:3877',\n",
       " 'EPSG:3880',\n",
       " 'EPSG:5048',\n",
       " 'EPSG:3884',\n",
       " 'EPSG:3137',\n",
       " 'EPSG:3136',\n",
       " 'EPSG:3127',\n",
       " 'EPSG:3138']"
      ]
     },
     "execution_count": 15,
     "metadata": {},
     "output_type": "execute_result"
    }
   ],
   "source": [
    "wms['TerritorialSeaArea_A'].crsOptions"
   ]
  },
  {
   "cell_type": "code",
   "execution_count": 16,
   "id": "9563cc4e",
   "metadata": {},
   "outputs": [
    {
     "data": {
      "text/plain": [
       "{'aluemeri_raja_a': {'title': 'Aluemeri',\n",
       "  'legend': 'https://julkinen.traficom.fi:443/inspirepalvelu/avoin/ows?service=WMS&version=1.3.0&request=GetLegendGraphic&format=image%2Fpng&width=20&height=20&layer=TerritorialSeaArea_A',\n",
       "  'legend_width': '20',\n",
       "  'legend_height': '20',\n",
       "  'legend_format': 'image/png'}}"
      ]
     },
     "execution_count": 16,
     "metadata": {},
     "output_type": "execute_result"
    }
   ],
   "source": [
    "wms['TerritorialSeaArea_A'].styles"
   ]
  },
  {
   "cell_type": "code",
   "execution_count": 17,
   "id": "b40f8319",
   "metadata": {},
   "outputs": [
    {
     "data": {
      "text/plain": [
       "['GetCapabilities', 'GetMap', 'GetFeatureInfo']"
      ]
     },
     "execution_count": 17,
     "metadata": {},
     "output_type": "execute_result"
    }
   ],
   "source": [
    "[op.name for op in wms.operations]"
   ]
  },
  {
   "cell_type": "code",
   "execution_count": 18,
   "id": "ddfd4de3",
   "metadata": {},
   "outputs": [
    {
     "data": {
      "text/plain": [
       "[{'type': 'Get',\n",
       "  'url': 'https://julkinen.traficom.fi:443/inspirepalvelu/avoin/ows?SERVICE=WMS&'}]"
      ]
     },
     "execution_count": 18,
     "metadata": {},
     "output_type": "execute_result"
    }
   ],
   "source": [
    "wms.getOperationByName('GetMap').methods"
   ]
  },
  {
   "cell_type": "code",
   "execution_count": 19,
   "id": "f0de76f1",
   "metadata": {},
   "outputs": [
    {
     "data": {
      "text/plain": [
       "['image/png',\n",
       " 'application/atom+xml',\n",
       " 'application/json;type=utfgrid',\n",
       " 'application/pdf',\n",
       " 'application/rss+xml',\n",
       " 'application/vnd.google-earth.kml+xml',\n",
       " 'application/vnd.google-earth.kml+xml;mode=networklink',\n",
       " 'application/vnd.google-earth.kmz',\n",
       " 'image/geotiff',\n",
       " 'image/geotiff8',\n",
       " 'image/gif',\n",
       " 'image/jpeg',\n",
       " 'image/png; mode=8bit',\n",
       " 'image/svg+xml',\n",
       " 'image/tiff',\n",
       " 'image/tiff8',\n",
       " 'image/vnd.jpeg-png',\n",
       " 'image/vnd.jpeg-png8',\n",
       " 'text/html; subtype=openlayers',\n",
       " 'text/html; subtype=openlayers2',\n",
       " 'text/html; subtype=openlayers3']"
      ]
     },
     "execution_count": 19,
     "metadata": {},
     "output_type": "execute_result"
    }
   ],
   "source": [
    "wms.getOperationByName('GetMap').formatOptions"
   ]
  },
  {
   "cell_type": "code",
   "execution_count": 22,
   "id": "5f6316ab",
   "metadata": {},
   "outputs": [],
   "source": [
    "img = wms.getmap(layers=['TerritorialSeaArea_A'],\n",
    "                 styles=['aluemeri_raja_a'],\n",
    "                 srs='EPSG:4326',\n",
    "                 #bbox=(-112, 36, -106, 41),\n",
    "                 bbox=boundingBox,\n",
    "                 size=(300, 250),\n",
    "                 format='image/png',\n",
    "                 transparent=True\n",
    "                 )\n",
    "out = open('testikuva.png', 'wb')\n",
    "out.write(img.read())\n",
    "out.close()"
   ]
  },
  {
   "cell_type": "code",
   "execution_count": null,
   "id": "02021418",
   "metadata": {},
   "outputs": [],
   "source": []
  }
 ],
 "metadata": {
  "kernelspec": {
   "display_name": "Python 3 (ipykernel)",
   "language": "python",
   "name": "python3"
  },
  "language_info": {
   "codemirror_mode": {
    "name": "ipython",
    "version": 3
   },
   "file_extension": ".py",
   "mimetype": "text/x-python",
   "name": "python",
   "nbconvert_exporter": "python",
   "pygments_lexer": "ipython3",
   "version": "3.8.13"
  }
 },
 "nbformat": 4,
 "nbformat_minor": 5
}
